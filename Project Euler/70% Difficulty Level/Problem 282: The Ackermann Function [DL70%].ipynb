{
 "cells": [
  {
   "cell_type": "markdown",
   "metadata": {},
   "source": [
    "PROBLEM STATUS: In Progress\n",
    "\n",
    "PROBLEM DIFFICULTY LEVEL: 70%\n",
    "\n",
    "PROBLEM STATEMENT\n",
    "https://projecteuler.net/problem=282\n",
    "\n",
    "I decided to try this as an Notebook as I feel there is benefit in visualisation and documenting my thought process. \n",
    "Solving some of these problems, as in real life, requires some level of intuition as well."
   ]
  },
  {
   "cell_type": "code",
   "execution_count": null,
   "metadata": {},
   "outputs": [],
   "source": [
    "#Importing libraries that might be important\n",
    "import numpy as np"
   ]
  },
  {
   "cell_type": "code",
   "execution_count": 90,
   "metadata": {},
   "outputs": [],
   "source": [
    "#We'll define a function for good practice\n",
    "def ackerman_function(m,n):\n",
    "    '''\n",
    "    Description:\n",
    "        Defines the Ackerman function and evaluates its value given two inputs m and n\n",
    "    Args:\n",
    "        m (int) and n (int): the arguments to the Ackerman function\n",
    "    Returns:\n",
    "        The value of the evaluated Ackerman function\n",
    "    '''\n",
    "    #It is clear that this function will continue to run itself until we reach a case where m has been reduced to 0\n",
    "    #Defining the variable that holds the value of Ackerman function and initialising to 0\n",
    "    \n",
    "    function_evaluation = 0\n",
    "    #Based on the definition, the Ackerman function is a piece wise function. Our first task is to define which case/branch of the function we are dealing with\n",
    "    if(m==0):\n",
    "        function_evaluation = n+1\n",
    "        return(function_evaluation)\n",
    "    elif((m>n) and (n==0)):\n",
    "        #Recalling the ackerman function\n",
    "        return(ackerman_function(m-1,1))\n",
    "    else:\n",
    "        #Recalling the ackerman function\n",
    "        return(ackerman_function(m-1,ackerman_function(m,n-1)))"
   ]
  },
  {
   "cell_type": "code",
   "execution_count": 91,
   "metadata": {},
   "outputs": [
    {
     "name": "stdout",
     "output_type": "stream",
     "text": [
      "A(1,0) = 2\n",
      "A(2,2) = 7\n",
      "A(3,4) = 125\n",
      "A(0,3) = 4\n"
     ]
    }
   ],
   "source": [
    "#Testing out our function for a few values of m and n\n",
    "print(f\"A(1,0) = {ackerman_function(1,0)}\") #Expected to evaluate to 2\n",
    "print(f\"A(2,2) = {ackerman_function(2,2)}\") #Expected to evaluate to 7\n",
    "print(f\"A(3,4) = {ackerman_function(3,4)}\") #Expected to evaluate to 125\n",
    "print(f\"A(0,3) = {ackerman_function(0,3)}\") #Expected to evaluate to 125"
   ]
  },
  {
   "cell_type": "markdown",
   "metadata": {},
   "source": [
    "Now that we know that the function evaluates to the examples given in the problem definition, we know we've defined Ackerman function properly. \n",
    "The answer to this problem lies in the following Sum; A(0,0) + A(1,1) + A(2,2) + A(3,3) + A(4,4) + A(5,5) + A(6,6).\n",
    "\n",
    "It would be great if we could perform a loop that solves each one however we quickly see that anything in the form A(n,n) for n>3 provides a recursion error as we are calling the function too often.\n",
    "\n",
    "To prove it:"
   ]
  },
  {
   "cell_type": "code",
   "execution_count": 92,
   "metadata": {},
   "outputs": [
    {
     "name": "stdout",
     "output_type": "stream",
     "text": [
      "A(0,0) = 1\n",
      "A(1,1) = 3\n",
      "A(2,2) = 7\n",
      "A(3,3) = 61\n",
      "\"maximum recursion depth exceeded\"- error thrown when trying to evaluate A(4,4)\n",
      "\"maximum recursion depth exceeded\"- error thrown when trying to evaluate A(5,5)\n",
      "\"maximum recursion depth exceeded\"- error thrown when trying to evaluate A(6,6)\n"
     ]
    }
   ],
   "source": [
    "#We will set up a loop that evaluates A(n,n) until an exception is thrown.\n",
    "for n in range (7):\n",
    "    try:\n",
    "        print(f\"A({n},{n}) = {ackerman_function(n,n)}\")\n",
    "    except Exception as e:\n",
    "        print(f'\"{e}\"- error thrown when trying to evaluate A({n},{n})')"
   ]
  },
  {
   "cell_type": "markdown",
   "metadata": {},
   "source": [
    "This highlights that we'll need to simplify / decompose the Ackerman function to be able to break such large evaluations into smaller ones.\n",
    "I'll start by exploring the arguments that are possible to evaluate, via an LxL matrix of evaluations, to gain a better picture of what we're dealing with.\n",
    "I have a feeling we'll see a pattern emerge."
   ]
  },
  {
   "cell_type": "code",
   "execution_count": 93,
   "metadata": {},
   "outputs": [
    {
     "name": "stdout",
     "output_type": "stream",
     "text": [
      "    0     1     2     3      4      5      6       7       8     9   ...  \\\n",
      "0  1.0   2.0   3.0   4.0    5.0    6.0    7.0     8.0     9.0  10.0  ...   \n",
      "1  2.0   3.0   4.0   5.0    6.0    7.0    8.0     9.0    10.0  11.0  ...   \n",
      "2  3.0   5.0   7.0   9.0   11.0   13.0   15.0    17.0    19.0  21.0  ...   \n",
      "3  5.0  13.0  29.0  61.0  125.0  253.0  509.0  1021.0  2045.0   NaN  ...   \n",
      "\n",
      "     15    16    17    18    19    20    21    22    23    24  \n",
      "0  16.0  17.0  18.0  19.0  20.0  21.0  22.0  23.0  24.0  25.0  \n",
      "1  17.0  18.0  19.0  20.0  21.0  22.0  23.0  24.0  25.0  26.0  \n",
      "2  33.0  35.0  37.0  39.0  41.0  43.0  45.0  47.0  49.0  51.0  \n",
      "3   NaN   NaN   NaN   NaN   NaN   NaN   NaN   NaN   NaN   NaN  \n",
      "\n",
      "[4 rows x 25 columns]\n"
     ]
    }
   ],
   "source": [
    "#Defining L*L array that will hold our values\n",
    "l =25\n",
    "our_matrix = np.empty((4,l))\n",
    "#Let us set up a loop to store the arguments and evaluations\n",
    "for m in range(4):\n",
    "    for n in range(l):\n",
    "        #We will try to evaluate the function\n",
    "        try:\n",
    "            our_matrix[m][n]=ackerman_function(m,n)\n",
    "        except Exception as e:\n",
    "            #If we encounter an error we will save as an nan value\n",
    "            our_matrix[m][n]=np.nan\n",
    "#I'll create a similar array as a pd to make it easier to visualise the combinations as pd will automatically give us the row and column numbers\n",
    "#This is just for quick easy visualisaition for the time being and not for any calculation purposes\n",
    "import pandas as pd\n",
    "our_matrix_pd = pd.DataFrame(our_matrix)\n",
    "print(our_matrix_pd)"
   ]
  },
  {
   "cell_type": "markdown",
   "metadata": {},
   "source": [
    "We can immidiately see that there is a pattern, and luckily a decomposition in addition. For example:\n",
    "<br>A(3,2) = 29\n",
    "<br>and\n",
    "<br>A(3,1) + A(2,4) + A(0,4) = 13 + 11 + 5 = 29 = A(3,2)\n",
    "\n",
    "Namely, *any evaluated Ackerman can be defined as the _sum_ of one or more other evaluated Ackerman*. As another example:\n",
    "<br>A(3,4) = 125\n",
    "<br>and\n",
    "<br>A(3,3) + A(3,2) + A(3,1) + A(2,4) + A(2,2) + A(2,0) + A(0,0) = 61 + 29 + 13 + 11 + 7 + 3 + 1 = 125\n",
    "\n",
    "This breakthrough shows us that, at least computationally until the limits we'eve so far defined, any Ackerman function (except A(0,0), A(1,0) and A(0,1)) can be broken down into the sum of two or more *unique* Ackerman functions. Equipped with this, we can now continue to dig deeper to uncover the underlying formula that efficintly describes the composition. \n",
    "\n",
    "Because we now have a list of \n",
    "\n",
    "**Note: We also see that along the way we will have to deal with the fact that there may be multiple Ackerman functions that evaluate to the same number, hence we will also need to find which of these arguments works best for our given input.**"
   ]
  },
  {
   "cell_type": "markdown",
   "metadata": {},
   "source": [
    "Lets simply our findings to the A(2,3) case and see if we can create another breakthrough. It is sizeable enough to give a few possibilities, but not large enough where the possibilities are endless.\n",
    "\n",
    "We will start by defining an LxL matrix that gets as far as"
   ]
  }
 ],
 "metadata": {
  "kernelspec": {
   "display_name": "Python 3",
   "language": "python",
   "name": "python3"
  },
  "language_info": {
   "codemirror_mode": {
    "name": "ipython",
    "version": 3
   },
   "file_extension": ".py",
   "mimetype": "text/x-python",
   "name": "python",
   "nbconvert_exporter": "python",
   "pygments_lexer": "ipython3",
   "version": "3.11.4"
  }
 },
 "nbformat": 4,
 "nbformat_minor": 2
}
