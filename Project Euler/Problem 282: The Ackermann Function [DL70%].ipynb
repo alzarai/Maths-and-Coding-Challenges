{
 "cells": [
  {
   "cell_type": "markdown",
   "metadata": {},
   "source": [
    "PROBLEM STATUS: In Progress\n",
    "\n",
    "PROBLEM DIFFICULTY LEVEL: 70%\n",
    "\n",
    "PROBLEM STATEMENT\n",
    "https://projecteuler.net/problem=282\n",
    "\n",
    "I decided to try this as an Notebook as I feel there is benefit in visualisation and documenting my thought process. \n",
    "Solving some of these problems, as in real life, requires some level of intuition as well."
   ]
  },
  {
   "cell_type": "code",
   "execution_count": null,
   "metadata": {},
   "outputs": [],
   "source": [
    "#Importing libraries that might be important\n",
    "import numpy as np"
   ]
  },
  {
   "cell_type": "code",
   "execution_count": 7,
   "metadata": {},
   "outputs": [],
   "source": [
    "#We'll define a function for good practice\n",
    "def ackerman_function(m,n):\n",
    "    '''\n",
    "    Description:\n",
    "        Defines the Ackerman function and evaluates its value given two inputs m and n\n",
    "    Args:\n",
    "        m (int) and n (int): the arguments to the Ackerman function\n",
    "    Returns:\n",
    "        The value of the evaluated Ackerman function\n",
    "    '''\n",
    "    #It is clear that this function will continue to run itself until we reach a case where m has been reduced to 0\n",
    "    #Defining the variable that holds the value of Ackerman function and initialising to 0\n",
    "    \n",
    "    function_evaluation = 0\n",
    "    #Based on the definition, the Ackerman function is a piece wise function. Our first task is to define which case/branch of the function we are dealing with\n",
    "    if(m==0):\n",
    "        function_evaluation = n+1\n",
    "        return(function_evaluation)\n",
    "    elif((m>n) and (n==0)):\n",
    "        #Recalling the ackerman function\n",
    "        return(ackerman_function(m-1,1))\n",
    "    else:\n",
    "        #Recalling the ackerman function\n",
    "        return(ackerman_function(m-1,ackerman_function(m,n-1)))"
   ]
  },
  {
   "cell_type": "code",
   "execution_count": null,
   "metadata": {},
   "outputs": [],
   "source": [
    "#Testing out our function for a few values of m and n\n",
    "print(f\"A(0,1) = {ackerman_function(0,1)}\")\n",
    "print(f\"A(0,0) = {ackerman_function(0,0)}\")\n",
    "print(f\"A(1,0) = {ackerman_function(1,0)}\")"
   ]
  }
 ],
 "metadata": {
  "kernelspec": {
   "display_name": "Python 3",
   "language": "python",
   "name": "python3"
  },
  "language_info": {
   "codemirror_mode": {
    "name": "ipython",
    "version": 3
   },
   "file_extension": ".py",
   "mimetype": "text/x-python",
   "name": "python",
   "nbconvert_exporter": "python",
   "pygments_lexer": "ipython3",
   "version": "3.11.4"
  }
 },
 "nbformat": 4,
 "nbformat_minor": 2
}
